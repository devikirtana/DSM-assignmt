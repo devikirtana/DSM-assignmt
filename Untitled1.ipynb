{
 "cells": [
  {
   "cell_type": "markdown",
   "id": "4c2b99c8-b86e-4b60-843b-2faf025a6f79",
   "metadata": {},
   "source": [
    "# Qn 1"
   ]
  },
  {
   "cell_type": "code",
   "execution_count": null,
   "id": "9e70c729-52c1-4c40-ae51-d32a1cb9c33c",
   "metadata": {},
   "outputs": [],
   "source": [
    "\"\"\" Open function is used to open a file\n",
    "Different modes of file opening\n",
    "r - open a file for reading\n",
    "w - open a file for writing\n",
    "x - open a file for exclusive creation \n",
    "a - open a file for appending at the end of the file without truncating it\n",
    "t - open in text mode\n",
    "b - open in binary mode \"\"\""
   ]
  },
  {
   "cell_type": "code",
   "execution_count": null,
   "id": "2876eadb-9366-45da-8140-7ecc8f47433e",
   "metadata": {},
   "outputs": [],
   "source": []
  },
  {
   "cell_type": "markdown",
   "id": "dac8763d-02e6-408f-950b-194530d9cf8d",
   "metadata": {},
   "source": [
    "# Qn 2"
   ]
  },
  {
   "cell_type": "markdown",
   "id": "236c3b26-3577-4a5a-98eb-dce2136f0603",
   "metadata": {},
   "source": [
    "\"\"\" Close() function closes the opened file.A closed file cannot be read or written anymore.The close() method can be called more than once and if any operation is performed on closed file it raises a value error\"\"\""
   ]
  },
  {
   "cell_type": "markdown",
   "id": "73f50991-bc2d-4593-acfb-78377384ea84",
   "metadata": {},
   "source": [
    "# Qn 4"
   ]
  },
  {
   "cell_type": "code",
   "execution_count": null,
   "id": "9b95c169-a544-4c98-aa6a-221526f7cea8",
   "metadata": {},
   "outputs": [],
   "source": [
    "\"\"\" Read() method returns the specified number of bytes from the file. Default is -1 which means the whole file \n",
    "    Readline() method returns one line from the file.We can specify how many bytes from the lines to return,by using the size parameter\n",
    "    Readlines() method returns all lines from the file \"\"\"\n"
   ]
  },
  {
   "cell_type": "markdown",
   "id": "bf16b4ce-52ff-4e6d-b0b4-7eba3829b0d0",
   "metadata": {},
   "source": [
    "# Qn 5"
   ]
  },
  {
   "cell_type": "markdown",
   "id": "1aebd35e-4def-45b6-aab3-610a513f2580",
   "metadata": {},
   "source": [
    "\"\"\" The with statement works with the open() function to open a file. Unlike open() where we have to close the file with the close() method. This is because the with statement calls 2 built-in methods behind the scene – __enter()__ and __exit()__\"\"\""
   ]
  },
  {
   "cell_type": "markdown",
   "id": "b6848cdc-6393-46dd-8f56-5f31e21d5812",
   "metadata": {},
   "source": [
    "# Qn 6"
   ]
  },
  {
   "cell_type": "code",
   "execution_count": null,
   "id": "893c7fd4-2b20-49d8-adf1-d80bce79f951",
   "metadata": {},
   "outputs": [],
   "source": [
    "\"\"\" The write() method accepts a string as an argument and writes this string to the text file. Whereas, the writelines() method accepts an iterable i.e. a string or the list of strings as an argument and writes these strings to the text file.\"\"\""
   ]
  }
 ],
 "metadata": {
  "kernelspec": {
   "display_name": "Python 3 (ipykernel)",
   "language": "python",
   "name": "python3"
  },
  "language_info": {
   "codemirror_mode": {
    "name": "ipython",
    "version": 3
   },
   "file_extension": ".py",
   "mimetype": "text/x-python",
   "name": "python",
   "nbconvert_exporter": "python",
   "pygments_lexer": "ipython3",
   "version": "3.10.8"
  }
 },
 "nbformat": 4,
 "nbformat_minor": 5
}
